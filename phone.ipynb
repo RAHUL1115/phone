{
 "cells": [
  {
   "cell_type": "code",
   "execution_count": 1,
   "id": "75dfb576",
   "metadata": {},
   "outputs": [],
   "source": [
    "#import\n",
    "import numpy as np\n",
    "import pandas as pd\n",
    "import scipy.special as spcl"
   ]
  },
  {
   "cell_type": "code",
   "execution_count": 2,
   "id": "cbed5710",
   "metadata": {},
   "outputs": [],
   "source": [
    "class ann:\n",
    "    def __init__(self, input_nodes, hidden_nodes, output_node, learningrate):\n",
    "        self.inodes = input_nodes\n",
    "        self.hnodes = hidden_nodes\n",
    "        self.onodes = output_node\n",
    "\n",
    "        # ! calculate all hidden weights\n",
    "        self.whh = []\n",
    "        for i in range(0, len(self.hnodes)):\n",
    "            # check if multilayer or not\n",
    "            if i == 0:\n",
    "                self.whh.append(\n",
    "                    np.random.normal(\n",
    "                        0.0, pow(self.inodes, -0.5), (self.inodes, self.hnodes[0])\n",
    "                    )\n",
    "                )\n",
    "            else:\n",
    "                self.whh.append(\n",
    "                    np.random.normal(\n",
    "                        0.0,\n",
    "                        pow(self.hnodes[i - 1], -0.5),\n",
    "                        (self.hnodes[i - 1], self.hnodes[i]),\n",
    "                    )\n",
    "                )\n",
    "\n",
    "        # ! calculate hidden to output\n",
    "        self.who = np.random.normal(\n",
    "            0.0, pow(self.hnodes[-1], -0.5), (self.hnodes[-1], self.onodes)\n",
    "        )\n",
    "\n",
    "        self.lr = learningrate\n",
    "\n",
    "        self.activation_function = lambda x: spcl.expit(x)\n",
    "        self.deactivation_function = lambda x: x * (1.0 - x)\n",
    "\n",
    "    def train(self, input_list, target_list):\n",
    "        inputs = np.array(input_list, ndmin=2)\n",
    "        targets = np.array(target_list, ndmin=2)\n",
    "\n",
    "        # * feed forward\n",
    "        # ? calculate all hidden input output\n",
    "        hidden_inputs = []\n",
    "        hidden_outputs = []\n",
    "        for i in range(len(self.whh)):\n",
    "            if i == 0:\n",
    "                hidden_inputs.append(np.dot(inputs, self.whh[i]))\n",
    "                hidden_outputs.append(self.activation_function(hidden_inputs[-1]))\n",
    "            else:\n",
    "                hidden_inputs.append(np.dot(hidden_outputs[i - 1], self.whh[i]))\n",
    "                hidden_outputs.append(self.activation_function(hidden_inputs[-1]))\n",
    "\n",
    "        # ? claculate hidden to output\n",
    "        final_inputs = np.dot(hidden_outputs[-1], self.who)\n",
    "        final_outputs = self.activation_function(final_inputs)\n",
    "\n",
    "        # * error calculation\n",
    "        # ?error out output\n",
    "        output_error = targets - final_outputs\n",
    "\n",
    "        # ? error of hidden\n",
    "        hidden_error = []\n",
    "        for i in range(1, len(self.whh) + 1):\n",
    "            if i == 1:\n",
    "                hidden_error.append(np.dot(output_error, self.who.T))\n",
    "            else:\n",
    "                hidden_error.append(np.dot(hidden_error[-1], self.whh[-(i - 1)].T))\n",
    "\n",
    "        hidden_error = hidden_error[::-1]\n",
    "\n",
    "        # * error reduction\n",
    "        # ? reduce error of all hidden\n",
    "        for i in range(len(self.whh)):\n",
    "            if i == 0:\n",
    "                self.whh[i] += inputs.T @ (\n",
    "                    self.lr\n",
    "                    * hidden_error[i]\n",
    "                    * self.deactivation_function(hidden_outputs[i])\n",
    "                )\n",
    "            else:\n",
    "                self.whh[i] += hidden_outputs[i - 1].T @ (\n",
    "                    self.lr\n",
    "                    * hidden_error[i]\n",
    "                    * self.deactivation_function(hidden_outputs[i])\n",
    "                )\n",
    "\n",
    "        # ? reduce error of ouput\n",
    "        self.who += hidden_outputs[-1].T @ (\n",
    "            self.lr * output_error * self.deactivation_function(final_outputs)\n",
    "        )\n",
    "\n",
    "    def query(self, inputs):\n",
    "        inputs = np.array(inputs, ndmin=2)\n",
    "\n",
    "        hidden_inputs = []\n",
    "        hidden_outputs = []\n",
    "        for i in range(len(self.whh)):\n",
    "            if i == 0:\n",
    "                hidden_inputs.append(np.dot(inputs, self.whh[i]))\n",
    "                hidden_outputs.append(self.activation_function(hidden_inputs[-1]))\n",
    "            else:\n",
    "                hidden_inputs.append(np.dot(hidden_outputs[i - 1], self.whh[i]))\n",
    "                hidden_outputs.append(self.activation_function(hidden_inputs[-1]))\n",
    "\n",
    "        final_inputs = np.dot(hidden_outputs[-1], self.who)\n",
    "        final_outputs = self.activation_function(final_inputs)\n",
    "\n",
    "        return final_outputs\n",
    "\n"
   ]
  },
  {
   "cell_type": "code",
   "execution_count": 3,
   "id": "4843a83a",
   "metadata": {},
   "outputs": [],
   "source": [
    "# load dataset\n",
    "dataset = pd.read_csv('phone.csv')"
   ]
  },
  {
   "cell_type": "code",
   "execution_count": 4,
   "id": "3a7b589f",
   "metadata": {},
   "outputs": [],
   "source": [
    "dataset = {\n",
    "    \"x\" : dataset.drop(labels=['Class'],axis=1),\n",
    "    \"y\": dataset[\"Class\"] - 1\n",
    "}"
   ]
  },
  {
   "cell_type": "code",
   "execution_count": 5,
   "id": "08b32c29",
   "metadata": {},
   "outputs": [
    {
     "data": {
      "text/plain": [
       "array([[2.44115736e-01],\n",
       "       [6.04464568e-08],\n",
       "       [1.52007281e-07],\n",
       "       ...,\n",
       "       [1.52007281e-07],\n",
       "       [4.96203745e-01],\n",
       "       [1.52007281e-07]])"
      ]
     },
     "execution_count": 5,
     "metadata": {},
     "output_type": "execute_result"
    }
   ],
   "source": [
    "a = ann(5, [2], 1, 0.5)\n",
    "for i in range(0, 1000):\n",
    "    a.train(np.array(dataset[\"x\"]),np.array(dataset[\"y\"]).reshape([-1,1]))\n",
    "    break\n",
    "a.query(np.array(dataset[\"x\"]))"
   ]
  }
 ],
 "metadata": {
  "kernelspec": {
   "display_name": "Python 3.11.0 64-bit",
   "language": "python",
   "name": "python3"
  },
  "language_info": {
   "codemirror_mode": {
    "name": "ipython",
    "version": 3
   },
   "file_extension": ".py",
   "mimetype": "text/x-python",
   "name": "python",
   "nbconvert_exporter": "python",
   "pygments_lexer": "ipython3",
   "version": "3.11.0"
  },
  "vscode": {
   "interpreter": {
    "hash": "5496d0e658636de4b9c7f8b66d5f364c0a3d5750dff48b27105eb0e52f106776"
   }
  }
 },
 "nbformat": 4,
 "nbformat_minor": 5
}
